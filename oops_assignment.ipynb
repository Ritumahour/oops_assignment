{
  "nbformat": 4,
  "nbformat_minor": 0,
  "metadata": {
    "colab": {
      "provenance": [],
      "authorship_tag": "ABX9TyN7YnE8V8zSQWl7+biuyzEV",
      "include_colab_link": true
    },
    "kernelspec": {
      "name": "python3",
      "display_name": "Python 3"
    },
    "language_info": {
      "name": "python"
    }
  },
  "cells": [
    {
      "cell_type": "markdown",
      "metadata": {
        "id": "view-in-github",
        "colab_type": "text"
      },
      "source": [
        "<a href=\"https://colab.research.google.com/github/Ritumahour/oops_assignment/blob/main/oops_assignment.ipynb\" target=\"_parent\"><img src=\"https://colab.research.google.com/assets/colab-badge.svg\" alt=\"Open In Colab\"/></a>"
      ]
    },
    {
      "cell_type": "markdown",
      "source": [
        "1.  Explain the importance of Functions."
      ],
      "metadata": {
        "id": "dbGBdMa8tuZX"
      }
    },
    {
      "cell_type": "markdown",
      "source": [
        "Ans. Functions are the important part of the python programming because they make code easier to read, maintain, and reuse:\n",
        "- Reusable code: Functions allow you to write a code once and use it again and again.\n",
        "- It help to save the time . It is easy to undrstand and readable.\n",
        "- Clear code: Functions can make code easy to understand by using descriptive names.\n",
        "- Easy maintenance: If you need to update a function, you only need to edit it in one place.\n",
        "-"
      ],
      "metadata": {
        "id": "28C1hEFJt4et"
      }
    },
    {
      "cell_type": "markdown",
      "source": [
        "2. Write a basic function to greet students."
      ],
      "metadata": {
        "id": "yRR40Qutt4ib"
      }
    },
    {
      "cell_type": "code",
      "source": [
        "def greeting():\n",
        "   print(\"Hello student\")\n",
        "greeting()\n"
      ],
      "metadata": {
        "colab": {
          "base_uri": "https://localhost:8080/"
        },
        "id": "2C4PVASwwdgp",
        "outputId": "217df74a-7bb6-4dc2-fe02-61613f49b464"
      },
      "execution_count": null,
      "outputs": [
        {
          "output_type": "stream",
          "name": "stdout",
          "text": [
            "Hello student\n"
          ]
        }
      ]
    },
    {
      "cell_type": "markdown",
      "source": [
        "3. What is the difference between print and return statements.\n"
      ],
      "metadata": {
        "id": "7U9ruT_yyB4A"
      }
    },
    {
      "cell_type": "markdown",
      "source": [
        "Ans. PRINT: PRINT is a function you call. Calling PRINT will immediately make your program write out text for you to see. Use PRINT when you want to show a value to a human.\n",
        " RETURN: RETURN is a keyword. When  a RETURN statement is reached, Python will stop the execution of the current function, sending a value out to where the function was called. Use RETURN when you want to send a value from one point i  your code to another."
      ],
      "metadata": {
        "id": "XxMtnU41yvyR"
      }
    },
    {
      "cell_type": "markdown",
      "source": [
        "4. What are *args and **kwargs?\n"
      ],
      "metadata": {
        "id": "vEQrAID94Es3"
      }
    },
    {
      "cell_type": "markdown",
      "source": [
        "Ans. In Python, *args and **kwargs are special symbols that allow you to pass a variable number of arguments to a function:\n",
        "\n",
        "args: Used to pass a variable number of positional arguments, which are arguments that don't contain any keyword related to the data value. *args combines all of the positional arguments into a tuple.\n",
        "\n",
        "kwargs: Used to pass a variable number of keyword arguments, which are like a dictionary that maps a value to its associated key. **kwargs gathers all of the keyword arguments into a dictionary."
      ],
      "metadata": {
        "id": "jbP4Zk5f4tVD"
      }
    },
    {
      "cell_type": "markdown",
      "source": [
        "5. Explain the iterator function."
      ],
      "metadata": {
        "id": "CA14tPWjtuuJ"
      }
    },
    {
      "cell_type": "markdown",
      "source": [
        "Ans. In Python, an iterator is an object that allows you to loop through iterable objects, such as lists, tuples, dictionaries, and sets. Iterators are used in for loops, comprehensions, and generators.\n",
        "\n",
        "Here are some things to know about iterators in Python:\n",
        "- Iterator protocol: Iterators implement the iterator protocol, which includes two methods:\n",
        "iter(): Returns the iterator object\n",
        "next(): Returns the next item in the sequence\n"
      ],
      "metadata": {
        "id": "pcKNUHGu6tns"
      }
    },
    {
      "cell_type": "markdown",
      "source": [
        "6. Write a code that generates the squares of numbers from 1 to n using a generator."
      ],
      "metadata": {
        "id": "Hf0YprYS930X"
      }
    },
    {
      "cell_type": "code",
      "source": [
        "def generate_squares(n):\n",
        "   for i in range(1, n + 1):\n",
        "      yield i ** 2\n",
        "\n",
        "n = 10\n",
        "squares = generate_squares(n)\n",
        "\n",
        "for square in squares:\n",
        "    print(square)"
      ],
      "metadata": {
        "colab": {
          "base_uri": "https://localhost:8080/"
        },
        "id": "eVKA1LofxqDd",
        "outputId": "85c893e6-e592-4b7b-fe1f-2f89bfd82a58"
      },
      "execution_count": null,
      "outputs": [
        {
          "output_type": "stream",
          "name": "stdout",
          "text": [
            "1\n",
            "4\n",
            "9\n",
            "16\n",
            "25\n",
            "36\n",
            "49\n",
            "64\n",
            "81\n",
            "100\n"
          ]
        }
      ]
    },
    {
      "cell_type": "markdown",
      "source": [
        "7. Write a code that generates palindromic numbers up to n using a generator."
      ],
      "metadata": {
        "id": "ZD7UzuukumG2"
      }
    },
    {
      "cell_type": "code",
      "source": [
        "from os.path import normcase\n",
        "def is_palindrome(n):\n",
        "   return str(n) == str(n) [::-1]\n",
        "\n",
        "def palindrome_generator(n):\n",
        "   for n in range (n + 1):\n",
        "      if is_palindrome(n):\n",
        "          yield n\n",
        "\n",
        "n = 100\n",
        "for palindrome in palindrome_generator(n):\n",
        "    print(palindrome)"
      ],
      "metadata": {
        "colab": {
          "base_uri": "https://localhost:8080/"
        },
        "id": "QB_Pq15kurEp",
        "outputId": "b1145539-7abb-4a99-b6f8-3e85370261b1"
      },
      "execution_count": null,
      "outputs": [
        {
          "output_type": "stream",
          "name": "stdout",
          "text": [
            "0\n",
            "1\n",
            "2\n",
            "3\n",
            "4\n",
            "5\n",
            "6\n",
            "7\n",
            "8\n",
            "9\n",
            "11\n",
            "22\n",
            "33\n",
            "44\n",
            "55\n",
            "66\n",
            "77\n",
            "88\n",
            "99\n"
          ]
        }
      ]
    },
    {
      "cell_type": "markdown",
      "source": [
        "8. Write a code that generates even numbers from 2 to n using a generator."
      ],
      "metadata": {
        "id": "k92_1nfzy35S"
      }
    },
    {
      "cell_type": "code",
      "source": [
        "def generate_evens(n):\n",
        "   for i in range(2, n + 1, 2):\n",
        "       yield i\n",
        "n = 20\n",
        "evens = generate_evens(n)\n",
        "\n",
        "for even in evens:\n",
        "    print(even)"
      ],
      "metadata": {
        "colab": {
          "base_uri": "https://localhost:8080/"
        },
        "id": "GI1HZATzy5pO",
        "outputId": "91189137-6743-49a8-8bd1-19abf6e88762"
      },
      "execution_count": null,
      "outputs": [
        {
          "output_type": "stream",
          "name": "stdout",
          "text": [
            "2\n",
            "4\n",
            "6\n",
            "8\n",
            "10\n",
            "12\n",
            "14\n",
            "16\n",
            "18\n",
            "20\n"
          ]
        }
      ]
    },
    {
      "cell_type": "markdown",
      "source": [
        "9. Write a code that generates powers of two up to n using a generator."
      ],
      "metadata": {
        "id": "zsElS0cZ0c78"
      }
    },
    {
      "cell_type": "code",
      "source": [
        "def generate_powers_of_two(n):\n",
        "    power = 1\n",
        "    while power <= n:\n",
        "        yield power\n",
        "        power *= 2\n",
        "\n",
        "n = 100\n",
        "powers_of_two = generate_powers_of_two(n)\n",
        "\n",
        "for power in powers_of_two:\n",
        "    print(power)"
      ],
      "metadata": {
        "colab": {
          "base_uri": "https://localhost:8080/"
        },
        "id": "13QmCJ2F0dfo",
        "outputId": "56e8809a-25eb-405b-8dda-21bec24f5bef"
      },
      "execution_count": null,
      "outputs": [
        {
          "output_type": "stream",
          "name": "stdout",
          "text": [
            "1\n",
            "2\n",
            "4\n",
            "8\n",
            "16\n",
            "32\n",
            "64\n"
          ]
        }
      ]
    },
    {
      "cell_type": "markdown",
      "source": [
        "10. Write a code that generates prime numbers up to n using a generator."
      ],
      "metadata": {
        "id": "lA3UmDE02v2S"
      }
    },
    {
      "cell_type": "code",
      "source": [
        "def is_prime(num):\n",
        "   if num < 2:\n",
        "      return False\n",
        "for i in range(2, int( num** 0.5) + 1):\n",
        "    if num % i == 0:\n",
        "         return False\n",
        "return True\n"
      ],
      "metadata": {
        "id": "Bx2hvtvE2wPj"
      },
      "execution_count": null,
      "outputs": []
    },
    {
      "cell_type": "markdown",
      "source": [
        "11. Write a code that uses a lambda function to calculate the sum of two numbers."
      ],
      "metadata": {
        "id": "gSN2wFxI2RDI"
      }
    },
    {
      "cell_type": "code",
      "source": [
        "add = lambda a, b: a+b\n",
        "add(5,5)"
      ],
      "metadata": {
        "colab": {
          "base_uri": "https://localhost:8080/"
        },
        "id": "KzGvvMDm2RtA",
        "outputId": "55a12900-8ee8-454d-b62a-3f6047d9d7a2"
      },
      "execution_count": null,
      "outputs": [
        {
          "output_type": "execute_result",
          "data": {
            "text/plain": [
              "10"
            ]
          },
          "metadata": {},
          "execution_count": 2
        }
      ]
    },
    {
      "cell_type": "markdown",
      "source": [
        "12. Write a code that uses a lambda function to calculate the square of a given number."
      ],
      "metadata": {
        "id": "2DfftSZ03Aer"
      }
    },
    {
      "cell_type": "code",
      "source": [
        "square = lambda x: x**2\n",
        "square(5)"
      ],
      "metadata": {
        "colab": {
          "base_uri": "https://localhost:8080/"
        },
        "id": "k4zNuLYI3esn",
        "outputId": "fa147709-19af-4456-defd-b229b7d62cb1"
      },
      "execution_count": null,
      "outputs": [
        {
          "output_type": "execute_result",
          "data": {
            "text/plain": [
              "25"
            ]
          },
          "metadata": {},
          "execution_count": 3
        }
      ]
    },
    {
      "cell_type": "markdown",
      "source": [
        "13. Write a code that uses a lambda function to check whether a given number is even or odd."
      ],
      "metadata": {
        "id": "dLB8wh883_lG"
      }
    },
    {
      "cell_type": "code",
      "source": [
        "number = int(input(\"Enter a number >>\"))\n",
        "odd_even = lambda:\"Even number\" if number %2 == 0 else \"Odd Number\"\n",
        "print(odd_even())\n"
      ],
      "metadata": {
        "colab": {
          "base_uri": "https://localhost:8080/"
        },
        "id": "xKX_jcs_3nZv",
        "outputId": "745e6744-a944-4ac3-cd7b-f82f05536f71"
      },
      "execution_count": null,
      "outputs": [
        {
          "output_type": "stream",
          "name": "stdout",
          "text": [
            "Enter a number >>2\n",
            "Even number\n"
          ]
        }
      ]
    },
    {
      "cell_type": "markdown",
      "source": [
        "14. Write a code that uses a lambda function to concatenate two strings."
      ],
      "metadata": {
        "id": "mdQebTVzPbGs"
      }
    },
    {
      "cell_type": "code",
      "source": [
        "concat = lambda str1, str2: str1 + str2\n",
        "result = concat(\"Hello\",\"World\")\n",
        "print(result)"
      ],
      "metadata": {
        "colab": {
          "base_uri": "https://localhost:8080/"
        },
        "id": "tgD2o3VzPbls",
        "outputId": "92d0cb7f-bb12-4013-b3e2-a2c1007fe8af"
      },
      "execution_count": null,
      "outputs": [
        {
          "output_type": "stream",
          "name": "stdout",
          "text": [
            "HelloWorld\n"
          ]
        }
      ]
    },
    {
      "cell_type": "markdown",
      "source": [
        "15. Write a code that uses a lambda function to find the maximum of three given numbers."
      ],
      "metadata": {
        "id": "b22NIN07QiUM"
      }
    },
    {
      "cell_type": "code",
      "source": [
        "max_of_three = lambda a, b, c: max(a, b, c)\n",
        "result = max_of_three(10, 25, 15)\n",
        "print(result)"
      ],
      "metadata": {
        "colab": {
          "base_uri": "https://localhost:8080/"
        },
        "id": "MyOeV6QbQit7",
        "outputId": "71ccec1c-d0c2-4704-cdc4-0b437b73648c"
      },
      "execution_count": null,
      "outputs": [
        {
          "output_type": "stream",
          "name": "stdout",
          "text": [
            "25\n"
          ]
        }
      ]
    },
    {
      "cell_type": "markdown",
      "source": [
        "16. Write a code that generates the squares of even numbers from a given list."
      ],
      "metadata": {
        "id": "HITjU2U3RW9G"
      }
    },
    {
      "cell_type": "code",
      "source": [
        "numbers = [1, 2, 3, 4, 5, 6, 7, 8, 9, 10]\n",
        "squared_evens = list(map(lambda x: x ** 2, filter(lambda x: x % 2 == 0, numbers)))\n",
        "print(squared_evens)"
      ],
      "metadata": {
        "colab": {
          "base_uri": "https://localhost:8080/"
        },
        "id": "I-9UpgXdRXNL",
        "outputId": "84adf5e8-6e2a-450e-f690-17793c72c3f6"
      },
      "execution_count": null,
      "outputs": [
        {
          "output_type": "stream",
          "name": "stdout",
          "text": [
            "[4, 16, 36, 64, 100]\n"
          ]
        }
      ]
    },
    {
      "cell_type": "markdown",
      "source": [
        "17. Write a code that calculates the product of positive numbers from a given list."
      ],
      "metadata": {
        "id": "Y8r9BLcPSqNn"
      }
    },
    {
      "cell_type": "code",
      "source": [
        "from functools import reduce\n",
        "numbers = [1, -2, 3, 4, -5, 6]\n",
        "positive_product = reduce(lambda x, y: x*y, filter(lambda x: x > 0, numbers))\n",
        "print(positive_product)"
      ],
      "metadata": {
        "colab": {
          "base_uri": "https://localhost:8080/"
        },
        "id": "BfR5_PmTSqjX",
        "outputId": "290ad2c0-3def-4c6c-d1fd-99621e1ec3b4"
      },
      "execution_count": null,
      "outputs": [
        {
          "output_type": "stream",
          "name": "stdout",
          "text": [
            "72\n"
          ]
        }
      ]
    },
    {
      "cell_type": "markdown",
      "source": [
        "18. Write a code that doubles the values of odd numbers from a given list."
      ],
      "metadata": {
        "id": "WcliigfOT1WS"
      }
    },
    {
      "cell_type": "code",
      "source": [
        "numbers = [1, 2, 3, 4, 5, 6, 7, 8, 9]\n",
        "doubled_odd = list(map(lambda x: x * 2 if x % 2 != 0 else x, numbers))\n",
        "print(doubled_odd)"
      ],
      "metadata": {
        "colab": {
          "base_uri": "https://localhost:8080/"
        },
        "id": "0gne8fsuT1n3",
        "outputId": "a487fe33-9ac0-4cd5-9e04-d4b374d1f387"
      },
      "execution_count": null,
      "outputs": [
        {
          "output_type": "stream",
          "name": "stdout",
          "text": [
            "[2, 2, 6, 4, 10, 6, 14, 8, 18]\n"
          ]
        }
      ]
    },
    {
      "cell_type": "markdown",
      "source": [
        "19. Write a code that calculates the sum of cubes of numbers from a given list."
      ],
      "metadata": {
        "id": "wM0xgo8qVeCX"
      }
    },
    {
      "cell_type": "code",
      "source": [
        "numbers = [1, 2, 3, 4, 5]\n",
        "sum_of_cubes = sum(map(lambda x: x**3, numbers))\n",
        "print(sum_of_cubes)"
      ],
      "metadata": {
        "colab": {
          "base_uri": "https://localhost:8080/"
        },
        "id": "9dnEgqXBVeZx",
        "outputId": "2fdd7b03-bb8c-400d-d436-f5da64ba561c"
      },
      "execution_count": null,
      "outputs": [
        {
          "output_type": "stream",
          "name": "stdout",
          "text": [
            "225\n"
          ]
        }
      ]
    },
    {
      "cell_type": "markdown",
      "source": [
        "20. Write a code that filters out prime numbers from a given list."
      ],
      "metadata": {
        "id": "zb7DK18WWJ9k"
      }
    },
    {
      "cell_type": "code",
      "source": [
        "is_prime = lambda n: n > 1 and all(n % i != 0 for i in range(2, int(n**0.5) + 1))\n",
        "numbers = [ 1, 2, 3, 4, 5, 6, 7, 8, 9, 10, 11, 12, 13, 14, 15]\n",
        "non_prime_numbers = list(filter(lambda x: not is_prime(x), numbers))\n",
        "print(non_prime_numbers)"
      ],
      "metadata": {
        "colab": {
          "base_uri": "https://localhost:8080/"
        },
        "id": "WyqhSKCCWKQ4",
        "outputId": "5559a89c-072e-47fb-a281-5549fc6ab5bd"
      },
      "execution_count": null,
      "outputs": [
        {
          "output_type": "stream",
          "name": "stdout",
          "text": [
            "[1, 4, 6, 8, 9, 10, 12, 14, 15]\n"
          ]
        }
      ]
    },
    {
      "cell_type": "markdown",
      "source": [
        "21. What is encapsulation in OOP?"
      ],
      "metadata": {
        "id": "wEgD7isW88FD"
      }
    },
    {
      "cell_type": "markdown",
      "source": [
        "Ans. Encapsulation is one of the fundamentals of OOPS(object-oriented programmimg). It refers to the bundling of the data with the methods that operate on the data. Encapsulation is used to hide the values or state of a structured data object inside a class."
      ],
      "metadata": {
        "id": "i7ahKFAk9Gaj"
      }
    },
    {
      "cell_type": "markdown",
      "source": [
        "22. Explain the use of access modifiers in Python classes."
      ],
      "metadata": {
        "id": "0RhOFMPX-4Ud"
      }
    },
    {
      "cell_type": "markdown",
      "source": [
        "Ans. Access modifiers,also known as access specifiers, are keywords in python that control the visibility and accessibility of classes, methods, and variables.They are important because they:\n",
        "- control accessibility: Access modifiers control how members of a class can be accessed from within or outside the class.\n",
        "- Promote encapsulation: Access modifiers help with encapsulation, a fundamental concept of object-oriented programming.\n",
        "- Hide internal implementations: Access modifiers can hide internal implementations.\n",
        "- Maintain security: Access modifiers help secure data from unauthorized access and prevent data exploitation."
      ],
      "metadata": {
        "id": "52eF3zGa-_ZO"
      }
    },
    {
      "cell_type": "markdown",
      "source": [
        "# 23. What is inheritance in OOP?"
      ],
      "metadata": {
        "id": "G7xDIa5OBrFa"
      }
    },
    {
      "cell_type": "markdown",
      "source": [
        "Ans. In object-oriented programming(OOP), inheritance is a mechanism that allows a class to inherit properties and behaviour from another class. It is a fundamental concept in OOP that promotes code reuse and establishes relationships between classes."
      ],
      "metadata": {
        "id": "EY_eVvgDB8Ps"
      }
    },
    {
      "cell_type": "markdown",
      "source": [
        "24. Define polymorphism in OOP."
      ],
      "metadata": {
        "id": "IBgD4jE1DyYr"
      }
    },
    {
      "cell_type": "markdown",
      "source": [
        "Ans. Polymorphism is a feature of object-oriented programming languages that allows a specific routine to use variables of different types at different times. It is the ability of a programming language to present the same interface for several different underlying data types and different objects to respond in a unique way to the message."
      ],
      "metadata": {
        "id": "MymjBJ1sDyoC"
      }
    },
    {
      "cell_type": "markdown",
      "source": [
        "31. Explain method overriding in Python."
      ],
      "metadata": {
        "id": "6cIo5oHaDy2w"
      }
    },
    {
      "cell_type": "markdown",
      "source": [
        "Ans. Method overriding is an ability of any object-oriented programming language that allows a subclass or child class to provide a specific implementation of a method that is already provided by one of its super-classes or parent classes. When a method in a subclass has the same name, the same parameters or signature, and same return type(or sub-type) as a method in its super-class, then the method in the subclass is said to override the method in the super-class."
      ],
      "metadata": {
        "id": "OfV3J4o8Dy7Y"
      }
    },
    {
      "cell_type": "markdown",
      "source": [
        "37. What is abstraction in Python? How is it implemented?"
      ],
      "metadata": {
        "id": "UrxdcFIfJUrw"
      }
    },
    {
      "cell_type": "markdown",
      "source": [
        "Ans. Abstraction in Python is a fundamental concept that helps developers create more maintainable and modular code. It is implemented through the use of abstract classes and interfaces.\n",
        "\n",
        "Here are some key aspects of abstraction in Python:\n",
        "\n",
        "- Separates implementation details: Abstraction separates the essential features of an object from the specific implementation details.\n",
        "- Creates a hierarchy of classes: Abstraction allows developers to create a hierarchy of classes where each class inherits properties and methods from its parent class.\n",
        "- Simplifies complex concepts: Abstraction helps developers focus on the high-level functionality of a program without worrying about the low-level implementation.\n",
        "- Promotes reusability: Abstraction allows developers to create modular and reusable code.\n",
        "- Simplifies client interactions: Abstraction offers a straightforward interface for clients to interact with class objects."
      ],
      "metadata": {
        "id": "DA_AzlbmJU-2"
      }
    },
    {
      "cell_type": "markdown",
      "source": [
        "38. Explain the importance of abstraction in object-oriented programming."
      ],
      "metadata": {
        "id": "Qpt9nMrvDy-4"
      }
    },
    {
      "cell_type": "markdown",
      "source": [
        "Ans. Abstraction is a core concept in object-oriented programming (OOP) that's important because it reduces complexity and increases efficiency:\n",
        "- Reduces complexity: Abstraction hides unnecessary details and only shows the relevant information, making it easier for users to interact with the application.\n",
        "- Increases efficiency: Abstraction helps developers focus on specific classes and tasks, which can increase their development speed.\n",
        "- Increases reusability: Abstraction helps avoid code duplication and makes code more reusable.\n",
        "- Increases readability: Abstraction reduces the complexity and redundancy of code, making it easier to read.\n",
        "- Increases security: Abstraction provides only the important details to the user, which can increase the security of the application.\n",
        "Makes it easier to adapt to new applications: Without abstraction, code may be difficult to adapt to new applications.\n",
        "- Abstraction is one of the three central principles of OOP, along with encapsulation and inheritance."
      ],
      "metadata": {
        "id": "ewrzqj_7Ipwk"
      }
    },
    {
      "cell_type": "markdown",
      "source": [
        "39. How are abstract methods different from regular methods in Python."
      ],
      "metadata": {
        "id": "CNmgER3TJ9pV"
      }
    },
    {
      "cell_type": "markdown",
      "source": [
        "Ans. In Python, abstract methods are different from regular methods in that abstract methods are declared but not defined, while regular methods have an implementation:\n",
        "\n",
        "- Abstract methods: These methods are declared in a base class but not defined. They act as placeholders that must be overridden by subclasses that inherit from the base class. Abstract methods are used to define an interface or a blueprint for other classes to follow.\n",
        "- Regular methods: These methods have an implementation.\n"
      ],
      "metadata": {
        "id": "IFYImDp5J-G2"
      }
    },
    {
      "cell_type": "markdown",
      "source": [
        "40. How can you achieve abstraction using interfaces in Python?"
      ],
      "metadata": {
        "id": "Ir248zunJ-Wt"
      }
    },
    {
      "cell_type": "markdown",
      "source": [
        "Ans. Abstraction in Python is achieved using abstract classes or interfaces provided by the \"abc\" module. Abstract classes define a common interface for their subclasses, while interfaces define a set of methods that must be implemented by classes that implement the interface."
      ],
      "metadata": {
        "id": "jwcnaJJAKtBf"
      }
    },
    {
      "cell_type": "markdown",
      "source": [
        "41. Can you provide an example of how abstraction can be utilized to create a common interface for a group\n",
        "of related classes in Python?"
      ],
      "metadata": {
        "id": "OP0nsrOlLCcq"
      }
    },
    {
      "cell_type": "markdown",
      "source": [
        "Ans. To implement an abstract class in Python, we create a subclass that inherits from the abstract class and provides concrete implementations of its abstract methods. For example, suppose we want to implement the Vehicle abstract class for a Car class. We can do so as follows: class Car(Vehicle)."
      ],
      "metadata": {
        "id": "zMlcD0tsLCiF"
      }
    },
    {
      "cell_type": "markdown",
      "source": [
        "42. How does Python achieve polymorphism through method overriding?"
      ],
      "metadata": {
        "id": "tfOUZ0tJLCmN"
      }
    },
    {
      "cell_type": "markdown",
      "source": [
        "Ans. The runtime polymorphism can be achieved by method overriding. Java virtual machine determines the proper method to call at the runtime, not at the compile time. It is also called dynamic or late binding. Method overriding says child class has the same method as declared in the parent class."
      ],
      "metadata": {
        "id": "VIqpPWxzLk5J"
      }
    },
    {
      "cell_type": "markdown",
      "source": [
        "43. Define a base class with a method and a subclass that overrides the method."
      ],
      "metadata": {
        "id": "zyhPXVFWLlg0"
      }
    },
    {
      "cell_type": "markdown",
      "source": [
        "Ans. A base class with a method and a subclass that overrides the method is an example of method overriding, which allows a subclass to modify the behavior of a superclass:\n",
        "- Method name: The method name in the subclass must be the same as the method name in the base class.\n",
        "- Method signature: The method signature in the subclass must be the same as the method signature in the base class. This includes the number, type, and order of parameters, as well as the return type.\n",
        "- Inheritance: The subclass must be able to inherit from the base class.\n",
        "- Abstract methods: All abstract methods in the base class must be overridden in the subclass.\n",
        "- Static or final methods: Static or final methods in the base class cannot be overridden.\n",
        "- Override annotation: The @Override annotation can be used to indicate to the compiler that a method is being overridden. This is optional, but it can help ensure that the method signature is correct."
      ],
      "metadata": {
        "id": "w60LXGCfLl6f"
      }
    },
    {
      "cell_type": "markdown",
      "source": [
        "44. Define a base class and multiple subclasses with overridden methods."
      ],
      "metadata": {
        "id": "lvkX61Z6iMBb"
      }
    },
    {
      "cell_type": "markdown",
      "source": [
        "Ans. Method overriding is an ability of any object-oriented programming language that allows a subclass or child class to provide a specific implementation of a method that is already provided by one of its super-classes or parent classes. When a method in a subclass has the same name, the same parameters or signature, and same return type(or sub-type) as a method in its super-class, then the method in the subclass is said to override the method in the super-class.\n",
        "\n",
        "Multiple Inheritance: When a class is derived from more than one base class it is called multiple Inheritance.\n"
      ],
      "metadata": {
        "id": "Bm2tP-w6iSOQ"
      }
    },
    {
      "cell_type": "markdown",
      "source": [
        "45. How does polymorphism improve code readability and reusability?"
      ],
      "metadata": {
        "id": "te_5PrhbiSgt"
      }
    },
    {
      "cell_type": "markdown",
      "source": [
        "Ans. Polymorphism promotes code reusability by allowing objects of different types to be treated as objects of a common type. Polymorphism is a fundamental concept in object-oriented programming (OOP) that allows objects of different types to be treated as objects of a common type."
      ],
      "metadata": {
        "id": "KYngj5eBiSuy"
      }
    },
    {
      "cell_type": "markdown",
      "source": [
        "46. Describe how Python supports polymorphism with duck typing."
      ],
      "metadata": {
        "id": "wmpQe0GiiS9L"
      }
    },
    {
      "cell_type": "markdown",
      "source": [
        "Ans. Duck typing is a term used to describe the polymorphic behavior of objects in dynamically typed programming languages like Python. This principle allows an action to be taken depending on the type of built-in objects being processed. It doesn't care that an object is a duck, it only cares about whether it quacks."
      ],
      "metadata": {
        "id": "iPerM7RhiTKt"
      }
    },
    {
      "cell_type": "markdown",
      "source": [
        "47. How do you achieve encapsulation in Python?"
      ],
      "metadata": {
        "id": "XrllaDE3l_e-"
      }
    },
    {
      "cell_type": "markdown",
      "source": [
        "Ans. In Python, you can achieve encapsulation by using access modifiers to restrict access to a class's variables and methods:\n",
        "\n",
        "- Use single and double underscores: Python doesn't have direct access modifiers like public, private, and protected. Instead, you can use single and double underscores to achieve encapsulation.\n",
        "- Use private members: Members with double underscores (__) are private and can only be accessed within the class where they are defined. Python uses name mangling to make these members harder to access from outside the class."
      ],
      "metadata": {
        "id": "idQlPzUfl_vO"
      }
    },
    {
      "cell_type": "markdown",
      "source": [
        "48. Can encapsulation be bypassed in Python? If so, how?"
      ],
      "metadata": {
        "id": "pBM14OOYl_9s"
      }
    },
    {
      "cell_type": "markdown",
      "source": [
        "Ans. Common pitfalls include overusing private variables, which can make the code difficult to maintain, and not providing adequate access methods (getters/setters) which can lead to fragile code. Additionally, developers might forget that Python's encapsulation is by convention, and thus, it can be bypassed."
      ],
      "metadata": {
        "id": "AsZIu-DKmmZZ"
      }
    },
    {
      "cell_type": "markdown",
      "source": [
        "51. Why is encapsulation considered a pillar of object-oriented programming (OOP)?"
      ],
      "metadata": {
        "id": "7wW8sGeKmmoM"
      }
    },
    {
      "cell_type": "markdown",
      "source": [
        "Ans. Encapsulation is a fundamental principle of object-oriented programming (OOP) because it helps create secure, reusable, and maintainable code. Encapsulation is the process of bundling data and the methods that operate on it within a class. This allows developers to:\n",
        "\n",
        "- Hide implementation details: Encapsulation prevents external code from accessing the internal workings of an object. This protects the integrity of the data and makes the code more secure.\n",
        "- Present a consistent interface: Encapsulation allows developers to create a clean and controlled interface for interacting with the object.\n",
        "- Organize code: Encapsulation encourages programmers to put all the code related to a set of data in the same class, making it easier for other programmers to understand.\n",
        "- Promote modularity: Encapsulation encourages decoupling, which is the idea of separating out data and code."
      ],
      "metadata": {
        "id": "pt0ht25xmm1J"
      }
    }
  ]
}